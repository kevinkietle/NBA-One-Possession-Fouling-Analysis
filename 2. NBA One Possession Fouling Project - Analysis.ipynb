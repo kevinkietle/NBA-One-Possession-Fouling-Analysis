{
 "cells": [
  {
   "cell_type": "markdown",
   "metadata": {},
   "source": [
    "# NBA One Possession Fouling Analysis - EDA"
   ]
  },
  {
   "cell_type": "markdown",
   "metadata": {},
   "source": [
    "## Imports"
   ]
  },
  {
   "cell_type": "code",
   "execution_count": 1,
   "metadata": {},
   "outputs": [],
   "source": [
    "import pandas as pd\n",
    "import numpy as np\n",
    "import matplotlib.pyplot as plt\n",
    "import seaborn as sns\n",
    "%matplotlib inline\n",
    "pd.options.display.max_columns = None"
   ]
  },
  {
   "cell_type": "code",
   "execution_count": 58,
   "metadata": {},
   "outputs": [],
   "source": [
    "new_take_foul_games = pd.read_csv('C:/Users/kevin/Downloads/simplified take foul games.csv')\n",
    "new_no_take_foul = pd.read_csv('C:/Users/kevin/Downloads/simplified no take foul games.csv')\n",
    "new_winning_take_foul = pd.read_csv('C:/Users/kevin/Downloads/simplified winning take foul games.csv')\n",
    "new_no_win_takefoul = pd.read_csv('C:/Users/kevin/Downloads/simplified no winning take foul games.csv')"
   ]
  },
  {
   "cell_type": "code",
   "execution_count": 4,
   "metadata": {},
   "outputs": [
    {
     "data": {
      "text/html": [
       "<div>\n",
       "<style scoped>\n",
       "    .dataframe tbody tr th:only-of-type {\n",
       "        vertical-align: middle;\n",
       "    }\n",
       "\n",
       "    .dataframe tbody tr th {\n",
       "        vertical-align: top;\n",
       "    }\n",
       "\n",
       "    .dataframe thead th {\n",
       "        text-align: right;\n",
       "    }\n",
       "</style>\n",
       "<table border=\"1\" class=\"dataframe\">\n",
       "  <thead>\n",
       "    <tr style=\"text-align: right;\">\n",
       "      <th></th>\n",
       "      <th>URL</th>\n",
       "      <th>GameType</th>\n",
       "      <th>Location</th>\n",
       "      <th>Date</th>\n",
       "      <th>Time</th>\n",
       "      <th>WinningTeam</th>\n",
       "      <th>Quarter</th>\n",
       "      <th>SecLeft</th>\n",
       "      <th>AwayTeam</th>\n",
       "      <th>AwayPlay</th>\n",
       "      <th>AwayScore</th>\n",
       "      <th>HomeTeam</th>\n",
       "      <th>HomePlay</th>\n",
       "      <th>HomeScore</th>\n",
       "      <th>Shooter</th>\n",
       "      <th>ShotType</th>\n",
       "      <th>ShotOutcome</th>\n",
       "      <th>ShotDist</th>\n",
       "      <th>Assister</th>\n",
       "      <th>Blocker</th>\n",
       "      <th>FoulType</th>\n",
       "      <th>Fouler</th>\n",
       "      <th>Fouled</th>\n",
       "      <th>Rebounder</th>\n",
       "      <th>ReboundType</th>\n",
       "      <th>ViolationPlayer</th>\n",
       "      <th>ViolationType</th>\n",
       "      <th>TimeoutTeam</th>\n",
       "      <th>FreeThrowShooter</th>\n",
       "      <th>FreeThrowOutcome</th>\n",
       "      <th>FreeThrowNum</th>\n",
       "      <th>EnterGame</th>\n",
       "      <th>LeaveGame</th>\n",
       "      <th>TurnoverPlayer</th>\n",
       "      <th>TurnoverType</th>\n",
       "      <th>TurnoverCause</th>\n",
       "      <th>TurnoverCauser</th>\n",
       "      <th>JumpballAwayPlayer</th>\n",
       "      <th>JumpballHomePlayer</th>\n",
       "      <th>JumpballPoss</th>\n",
       "      <th>score_diff</th>\n",
       "      <th>take_foul</th>\n",
       "      <th>SecsLeft</th>\n",
       "      <th>win</th>\n",
       "    </tr>\n",
       "  </thead>\n",
       "  <tbody>\n",
       "    <tr>\n",
       "      <th>0</th>\n",
       "      <td>/boxscores/201511220NOP.html</td>\n",
       "      <td>regular</td>\n",
       "      <td>Smoothie King Center New Orleans Louisiana</td>\n",
       "      <td>November 22 2015</td>\n",
       "      <td>6:00 PM</td>\n",
       "      <td>NOP</td>\n",
       "      <td>4</td>\n",
       "      <td>32</td>\n",
       "      <td>PHO</td>\n",
       "      <td>Turnover by E. Bledsoe (bad pass; steal by E. ...</td>\n",
       "      <td>109</td>\n",
       "      <td>NOP</td>\n",
       "      <td>Personal block foul by B. Knight (drawn by E. ...</td>\n",
       "      <td>112</td>\n",
       "      <td>P. Tucker - tuckepj01</td>\n",
       "      <td>3-pt jump shot</td>\n",
       "      <td>make</td>\n",
       "      <td>24.0</td>\n",
       "      <td>M. Teletović - teletmi01</td>\n",
       "      <td>A. Davis - davisan02</td>\n",
       "      <td>personal block</td>\n",
       "      <td>B. Knight - knighbr03</td>\n",
       "      <td>E. Gordon - gordoer01</td>\n",
       "      <td>I. Smith - smithis01</td>\n",
       "      <td>defensive</td>\n",
       "      <td>NaN</td>\n",
       "      <td>NaN</td>\n",
       "      <td>PHO</td>\n",
       "      <td>I. Smith - smithis01</td>\n",
       "      <td>make</td>\n",
       "      <td>1 of 2</td>\n",
       "      <td>L. Babbitt - babbilu01</td>\n",
       "      <td>A. Gee - geeal01</td>\n",
       "      <td>E. Bledsoe - bledser01</td>\n",
       "      <td>bad pass</td>\n",
       "      <td>steal</td>\n",
       "      <td>E. Gordon - gordoer01</td>\n",
       "      <td>NaN</td>\n",
       "      <td>NaN</td>\n",
       "      <td>NaN</td>\n",
       "      <td>3</td>\n",
       "      <td>True</td>\n",
       "      <td>30.0</td>\n",
       "      <td>0</td>\n",
       "    </tr>\n",
       "    <tr>\n",
       "      <th>1</th>\n",
       "      <td>/boxscores/201601290MIL.html</td>\n",
       "      <td>regular</td>\n",
       "      <td>BMO Harris Bradley Center Milwaukee Wisconsin</td>\n",
       "      <td>January 29 2016</td>\n",
       "      <td>8:00 PM</td>\n",
       "      <td>MIA</td>\n",
       "      <td>4</td>\n",
       "      <td>29</td>\n",
       "      <td>MIA</td>\n",
       "      <td>Personal take foul by G. Antetokounmpo (drawn ...</td>\n",
       "      <td>103</td>\n",
       "      <td>MIL</td>\n",
       "      <td>Turnover by G. Antetokounmpo (lost ball; steal...</td>\n",
       "      <td>101</td>\n",
       "      <td>K. Middleton - middlkh01</td>\n",
       "      <td>3-pt jump shot</td>\n",
       "      <td>miss</td>\n",
       "      <td>27.0</td>\n",
       "      <td>NaN</td>\n",
       "      <td>NaN</td>\n",
       "      <td>personal take</td>\n",
       "      <td>G. Antetokounmpo - antetgi01</td>\n",
       "      <td>D. Wade - wadedw01</td>\n",
       "      <td>M. Carter-Williams - cartemi01</td>\n",
       "      <td>defensive</td>\n",
       "      <td>NaN</td>\n",
       "      <td>NaN</td>\n",
       "      <td>MIL</td>\n",
       "      <td>D. Wade - wadedw01</td>\n",
       "      <td>make</td>\n",
       "      <td>1 of 2</td>\n",
       "      <td>J. Bayless - bayleje01</td>\n",
       "      <td>J. Parker - parkeja01</td>\n",
       "      <td>G. Antetokounmpo - antetgi01</td>\n",
       "      <td>lost ball</td>\n",
       "      <td>steal</td>\n",
       "      <td>D. Wade - wadedw01</td>\n",
       "      <td>NaN</td>\n",
       "      <td>NaN</td>\n",
       "      <td>NaN</td>\n",
       "      <td>2</td>\n",
       "      <td>True</td>\n",
       "      <td>29.0</td>\n",
       "      <td>0</td>\n",
       "    </tr>\n",
       "    <tr>\n",
       "      <th>2</th>\n",
       "      <td>/boxscores/201702060NOP.html</td>\n",
       "      <td>regular</td>\n",
       "      <td>Smoothie King Center New Orleans Louisiana</td>\n",
       "      <td>February 6 2017</td>\n",
       "      <td>8:00 PM</td>\n",
       "      <td>NOP</td>\n",
       "      <td>4</td>\n",
       "      <td>31</td>\n",
       "      <td>PHO</td>\n",
       "      <td>T. Warren misses 2-pt jump shot from 5 ft</td>\n",
       "      <td>103</td>\n",
       "      <td>NOP</td>\n",
       "      <td>Defensive rebound by A. Davis</td>\n",
       "      <td>105</td>\n",
       "      <td>T. Warren - warretj01</td>\n",
       "      <td>2-pt jump shot</td>\n",
       "      <td>miss</td>\n",
       "      <td>5.0</td>\n",
       "      <td>NaN</td>\n",
       "      <td>J. Holiday - holidjr01</td>\n",
       "      <td>personal</td>\n",
       "      <td>P. Tucker - tuckepj01</td>\n",
       "      <td>A. Davis - davisan02</td>\n",
       "      <td>A. Davis - davisan02</td>\n",
       "      <td>defensive</td>\n",
       "      <td>NaN</td>\n",
       "      <td>NaN</td>\n",
       "      <td>PHO</td>\n",
       "      <td>A. Davis - davisan02</td>\n",
       "      <td>make</td>\n",
       "      <td>1 of 2</td>\n",
       "      <td>D. Cunningham - cunnida01</td>\n",
       "      <td>B. Hield - hieldbu01</td>\n",
       "      <td>T. Warren - warretj01</td>\n",
       "      <td>bad pass</td>\n",
       "      <td>steal</td>\n",
       "      <td>D. Cunningham - cunnida01</td>\n",
       "      <td>B. Hield - hieldbu01</td>\n",
       "      <td>P. Tucker - tuckepj01</td>\n",
       "      <td>A. Davis - davisan02</td>\n",
       "      <td>2</td>\n",
       "      <td>True</td>\n",
       "      <td>27.0</td>\n",
       "      <td>0</td>\n",
       "    </tr>\n",
       "    <tr>\n",
       "      <th>3</th>\n",
       "      <td>/boxscores/201712030NYK.html</td>\n",
       "      <td>regular</td>\n",
       "      <td>Madison Square Garden (IV) New York New York</td>\n",
       "      <td>December 3 2017</td>\n",
       "      <td>3:30 PM</td>\n",
       "      <td>ORL</td>\n",
       "      <td>4</td>\n",
       "      <td>28</td>\n",
       "      <td>ORL</td>\n",
       "      <td>Personal take foul by J. Jack (drawn by A. Gor...</td>\n",
       "      <td>99</td>\n",
       "      <td>NYK</td>\n",
       "      <td>J. Jack makes 3-pt jump shot from 26 ft</td>\n",
       "      <td>96</td>\n",
       "      <td>J. Jack - jackja01</td>\n",
       "      <td>3-pt jump shot</td>\n",
       "      <td>make</td>\n",
       "      <td>26.0</td>\n",
       "      <td>NaN</td>\n",
       "      <td>NaN</td>\n",
       "      <td>personal take</td>\n",
       "      <td>J. Jack - jackja01</td>\n",
       "      <td>A. Gordon - gordoaa01</td>\n",
       "      <td>NaN</td>\n",
       "      <td>NaN</td>\n",
       "      <td>NaN</td>\n",
       "      <td>NaN</td>\n",
       "      <td>ORL</td>\n",
       "      <td>E. Fournier - fournev01</td>\n",
       "      <td>make</td>\n",
       "      <td>1 of 2</td>\n",
       "      <td>D. Augustin - augusdj01</td>\n",
       "      <td>E. Payton - paytoel01</td>\n",
       "      <td>K. O'Quinn - oquinky01</td>\n",
       "      <td>bad pass</td>\n",
       "      <td>NaN</td>\n",
       "      <td>NaN</td>\n",
       "      <td>NaN</td>\n",
       "      <td>NaN</td>\n",
       "      <td>NaN</td>\n",
       "      <td>3</td>\n",
       "      <td>True</td>\n",
       "      <td>25.0</td>\n",
       "      <td>0</td>\n",
       "    </tr>\n",
       "    <tr>\n",
       "      <th>4</th>\n",
       "      <td>/boxscores/201801300WAS.html</td>\n",
       "      <td>regular</td>\n",
       "      <td>Capital One Arena Washington District of Columbia</td>\n",
       "      <td>January 30 2018</td>\n",
       "      <td>7:00 PM</td>\n",
       "      <td>WAS</td>\n",
       "      <td>4</td>\n",
       "      <td>31</td>\n",
       "      <td>OKC</td>\n",
       "      <td>C. Anthony misses 2-pt jump shot from 14 ft</td>\n",
       "      <td>96</td>\n",
       "      <td>WAS</td>\n",
       "      <td>Defensive rebound by O. Porter</td>\n",
       "      <td>98</td>\n",
       "      <td>C. Anthony - anthoca01</td>\n",
       "      <td>2-pt jump shot</td>\n",
       "      <td>miss</td>\n",
       "      <td>14.0</td>\n",
       "      <td>NaN</td>\n",
       "      <td>NaN</td>\n",
       "      <td>personal take</td>\n",
       "      <td>S. Adams - adamsst01</td>\n",
       "      <td>O. Porter - porteot01</td>\n",
       "      <td>O. Porter - porteot01</td>\n",
       "      <td>defensive</td>\n",
       "      <td>NaN</td>\n",
       "      <td>NaN</td>\n",
       "      <td>OKC</td>\n",
       "      <td>O. Porter - porteot01</td>\n",
       "      <td>make</td>\n",
       "      <td>1 of 2</td>\n",
       "      <td>NaN</td>\n",
       "      <td>NaN</td>\n",
       "      <td>NaN</td>\n",
       "      <td>NaN</td>\n",
       "      <td>NaN</td>\n",
       "      <td>NaN</td>\n",
       "      <td>NaN</td>\n",
       "      <td>NaN</td>\n",
       "      <td>NaN</td>\n",
       "      <td>2</td>\n",
       "      <td>True</td>\n",
       "      <td>28.0</td>\n",
       "      <td>0</td>\n",
       "    </tr>\n",
       "  </tbody>\n",
       "</table>\n",
       "</div>"
      ],
      "text/plain": [
       "                            URL GameType  \\\n",
       "0  /boxscores/201511220NOP.html  regular   \n",
       "1  /boxscores/201601290MIL.html  regular   \n",
       "2  /boxscores/201702060NOP.html  regular   \n",
       "3  /boxscores/201712030NYK.html  regular   \n",
       "4  /boxscores/201801300WAS.html  regular   \n",
       "\n",
       "                                            Location              Date  \\\n",
       "0         Smoothie King Center New Orleans Louisiana  November 22 2015   \n",
       "1      BMO Harris Bradley Center Milwaukee Wisconsin   January 29 2016   \n",
       "2         Smoothie King Center New Orleans Louisiana   February 6 2017   \n",
       "3       Madison Square Garden (IV) New York New York   December 3 2017   \n",
       "4  Capital One Arena Washington District of Columbia   January 30 2018   \n",
       "\n",
       "      Time WinningTeam  Quarter  SecLeft AwayTeam  \\\n",
       "0  6:00 PM         NOP        4       32      PHO   \n",
       "1  8:00 PM         MIA        4       29      MIA   \n",
       "2  8:00 PM         NOP        4       31      PHO   \n",
       "3  3:30 PM         ORL        4       28      ORL   \n",
       "4  7:00 PM         WAS        4       31      OKC   \n",
       "\n",
       "                                            AwayPlay  AwayScore HomeTeam  \\\n",
       "0  Turnover by E. Bledsoe (bad pass; steal by E. ...        109      NOP   \n",
       "1  Personal take foul by G. Antetokounmpo (drawn ...        103      MIL   \n",
       "2          T. Warren misses 2-pt jump shot from 5 ft        103      NOP   \n",
       "3  Personal take foul by J. Jack (drawn by A. Gor...         99      NYK   \n",
       "4        C. Anthony misses 2-pt jump shot from 14 ft         96      WAS   \n",
       "\n",
       "                                            HomePlay  HomeScore  \\\n",
       "0  Personal block foul by B. Knight (drawn by E. ...        112   \n",
       "1  Turnover by G. Antetokounmpo (lost ball; steal...        101   \n",
       "2                      Defensive rebound by A. Davis        105   \n",
       "3            J. Jack makes 3-pt jump shot from 26 ft         96   \n",
       "4                     Defensive rebound by O. Porter         98   \n",
       "\n",
       "                    Shooter        ShotType ShotOutcome  ShotDist  \\\n",
       "0     P. Tucker - tuckepj01  3-pt jump shot        make      24.0   \n",
       "1  K. Middleton - middlkh01  3-pt jump shot        miss      27.0   \n",
       "2     T. Warren - warretj01  2-pt jump shot        miss       5.0   \n",
       "3        J. Jack - jackja01  3-pt jump shot        make      26.0   \n",
       "4    C. Anthony - anthoca01  2-pt jump shot        miss      14.0   \n",
       "\n",
       "                   Assister                 Blocker        FoulType  \\\n",
       "0  M. Teletović - teletmi01    A. Davis - davisan02  personal block   \n",
       "1                       NaN                     NaN   personal take   \n",
       "2                       NaN  J. Holiday - holidjr01        personal   \n",
       "3                       NaN                     NaN   personal take   \n",
       "4                       NaN                     NaN   personal take   \n",
       "\n",
       "                         Fouler                 Fouled  \\\n",
       "0         B. Knight - knighbr03  E. Gordon - gordoer01   \n",
       "1  G. Antetokounmpo - antetgi01     D. Wade - wadedw01   \n",
       "2         P. Tucker - tuckepj01   A. Davis - davisan02   \n",
       "3            J. Jack - jackja01  A. Gordon - gordoaa01   \n",
       "4          S. Adams - adamsst01  O. Porter - porteot01   \n",
       "\n",
       "                        Rebounder ReboundType  ViolationPlayer  ViolationType  \\\n",
       "0            I. Smith - smithis01   defensive              NaN            NaN   \n",
       "1  M. Carter-Williams - cartemi01   defensive              NaN            NaN   \n",
       "2            A. Davis - davisan02   defensive              NaN            NaN   \n",
       "3                             NaN         NaN              NaN            NaN   \n",
       "4           O. Porter - porteot01   defensive              NaN            NaN   \n",
       "\n",
       "  TimeoutTeam         FreeThrowShooter FreeThrowOutcome FreeThrowNum  \\\n",
       "0         PHO     I. Smith - smithis01             make       1 of 2   \n",
       "1         MIL       D. Wade - wadedw01             make       1 of 2   \n",
       "2         PHO     A. Davis - davisan02             make       1 of 2   \n",
       "3         ORL  E. Fournier - fournev01             make       1 of 2   \n",
       "4         OKC    O. Porter - porteot01             make       1 of 2   \n",
       "\n",
       "                   EnterGame              LeaveGame  \\\n",
       "0     L. Babbitt - babbilu01       A. Gee - geeal01   \n",
       "1     J. Bayless - bayleje01  J. Parker - parkeja01   \n",
       "2  D. Cunningham - cunnida01   B. Hield - hieldbu01   \n",
       "3    D. Augustin - augusdj01  E. Payton - paytoel01   \n",
       "4                        NaN                    NaN   \n",
       "\n",
       "                 TurnoverPlayer TurnoverType TurnoverCause  \\\n",
       "0        E. Bledsoe - bledser01     bad pass         steal   \n",
       "1  G. Antetokounmpo - antetgi01    lost ball         steal   \n",
       "2         T. Warren - warretj01     bad pass         steal   \n",
       "3        K. O'Quinn - oquinky01     bad pass           NaN   \n",
       "4                           NaN          NaN           NaN   \n",
       "\n",
       "              TurnoverCauser    JumpballAwayPlayer     JumpballHomePlayer  \\\n",
       "0      E. Gordon - gordoer01                   NaN                    NaN   \n",
       "1         D. Wade - wadedw01                   NaN                    NaN   \n",
       "2  D. Cunningham - cunnida01  B. Hield - hieldbu01  P. Tucker - tuckepj01   \n",
       "3                        NaN                   NaN                    NaN   \n",
       "4                        NaN                   NaN                    NaN   \n",
       "\n",
       "           JumpballPoss  score_diff  take_foul  SecsLeft  win  \n",
       "0                   NaN           3       True      30.0    0  \n",
       "1                   NaN           2       True      29.0    0  \n",
       "2  A. Davis - davisan02           2       True      27.0    0  \n",
       "3                   NaN           3       True      25.0    0  \n",
       "4                   NaN           2       True      28.0    0  "
      ]
     },
     "execution_count": 4,
     "metadata": {},
     "output_type": "execute_result"
    }
   ],
   "source": [
    "new_take_foul_games.head()"
   ]
  },
  {
   "cell_type": "markdown",
   "metadata": {},
   "source": [
    "## Fouling Down One Possession"
   ]
  },
  {
   "cell_type": "markdown",
   "metadata": {},
   "source": [
    "Looks like teams have identified the 29 second mark as the cutoff in which they may need to foul to get the ball back."
   ]
  },
  {
   "cell_type": "code",
   "execution_count": 6,
   "metadata": {},
   "outputs": [
    {
     "data": {
      "text/plain": [
       "<matplotlib.axes._subplots.AxesSubplot at 0x1c72d6513a0>"
      ]
     },
     "execution_count": 6,
     "metadata": {},
     "output_type": "execute_result"
    },
    {
     "data": {
      "image/png": "[encoded data removed]",
      "text/plain": [
       "<Figure size 432x288 with 1 Axes>"
      ]
     },
     "metadata": {
      "needs_background": "light"
     },
     "output_type": "display_data"
    }
   ],
   "source": [
    "new_take_foul_games['SecsLeft'].plot(kind='hist')"
   ]
  },
  {
   "cell_type": "markdown",
   "metadata": {},
   "source": [
    "As expected when there is more than 30 seconds, more teams are willing to just wait and play out defense."
   ]
  },
  {
   "cell_type": "code",
   "execution_count": 9,
   "metadata": {},
   "outputs": [
    {
     "data": {
      "text/plain": [
       "<matplotlib.axes._subplots.AxesSubplot at 0x1c72d6d6d00>"
      ]
     },
     "execution_count": 9,
     "metadata": {},
     "output_type": "execute_result"
    },
    {
     "data": {
      "image/png": "[encoded data removed]",
      "text/plain": [
       "<Figure size 432x288 with 1 Axes>"
      ]
     },
     "metadata": {
      "needs_background": "light"
     },
     "output_type": "display_data"
    }
   ],
   "source": [
    "new_no_take_foul['SecLeft'].plot(kind='hist')"
   ]
  },
  {
   "cell_type": "markdown",
   "metadata": {},
   "source": [
    "Due to extensive cleaning to narrow down to just rows in which the opportunity to foul down one possession is available, this data set is only a sample of 12. Undoubtedly there have been more situations but many of the steps in part 1 would have taken some of them out. Interestingly still, none of the teams that fouled while down of 12 actually won the game."
   ]
  },
  {
   "cell_type": "code",
   "execution_count": 74,
   "metadata": {},
   "outputs": [
    {
     "data": {
      "text/plain": [
       "12"
      ]
     },
     "execution_count": 74,
     "metadata": {},
     "output_type": "execute_result"
    }
   ],
   "source": [
    "len(new_take_foul_games)"
   ]
  },
  {
   "cell_type": "code",
   "execution_count": 10,
   "metadata": {},
   "outputs": [
    {
     "data": {
      "text/plain": [
       "<seaborn.axisgrid.FacetGrid at 0x1c72d966550>"
      ]
     },
     "execution_count": 10,
     "metadata": {},
     "output_type": "execute_result"
    },
    {
     "data": {
      "image/png": "[encoded data removed]",
      "text/plain": [
       "<Figure size 216x216 with 1 Axes>"
      ]
     },
     "metadata": {
      "needs_background": "light"
     },
     "output_type": "display_data"
    }
   ],
   "source": [
    "g = sns.FacetGrid(new_take_foul_games, col='win')\n",
    "g.map(plt.hist, 'SecsLeft')"
   ]
  },
  {
   "cell_type": "code",
   "execution_count": 11,
   "metadata": {},
   "outputs": [
    {
     "data": {
      "text/plain": [
       "<seaborn.axisgrid.FacetGrid at 0x1c72d966520>"
      ]
     },
     "execution_count": 11,
     "metadata": {},
     "output_type": "execute_result"
    },
    {
     "data": {
      "image/png": "[encoded data removed]",
      "text/plain": [
       "<Figure size 432x216 with 2 Axes>"
      ]
     },
     "metadata": {
      "needs_background": "light"
     },
     "output_type": "display_data"
    }
   ],
   "source": [
    "g = sns.FacetGrid(new_no_take_foul, col='win')\n",
    "g.map(plt.hist, 'SecLeft')"
   ]
  },
  {
   "cell_type": "code",
   "execution_count": 64,
   "metadata": {},
   "outputs": [
    {
     "data": {
      "text/plain": [
       "34    12\n",
       "31     8\n",
       "33     7\n",
       "30     7\n",
       "32     2\n",
       "29     1\n",
       "26     1\n",
       "Name: SecLeft, dtype: int64"
      ]
     },
     "execution_count": 64,
     "metadata": {},
     "output_type": "execute_result"
    }
   ],
   "source": [
    "win_counts = new_no_take_foul[new_no_take_foul['win'] == 1]['SecLeft'].value_counts()\n",
    "win_counts"
   ]
  },
  {
   "cell_type": "code",
   "execution_count": 65,
   "metadata": {},
   "outputs": [
    {
     "data": {
      "text/plain": [
       "34    57\n",
       "33    54\n",
       "32    40\n",
       "31    32\n",
       "30    28\n",
       "29    21\n",
       "28    19\n",
       "27    14\n",
       "25     9\n",
       "26     8\n",
       "Name: SecLeft, dtype: int64"
      ]
     },
     "execution_count": 65,
     "metadata": {},
     "output_type": "execute_result"
    }
   ],
   "source": [
    "lose_counts = new_no_take_foul[new_no_take_foul['win'] == 0]['SecLeft'].value_counts()\n",
    "lose_counts"
   ]
  },
  {
   "cell_type": "code",
   "execution_count": 18,
   "metadata": {},
   "outputs": [
    {
     "data": {
      "text/plain": [
       "282"
      ]
     },
     "execution_count": 18,
     "metadata": {},
     "output_type": "execute_result"
    }
   ],
   "source": [
    "len(new_no_take_foul[new_no_take_foul['win'] == 0])"
   ]
  },
  {
   "cell_type": "markdown",
   "metadata": {},
   "source": [
    "As you can see the win percentage seems to rise at about 30 seconds for teams that do not foul. This would lend itself to why teams mostly viewed this 29 second mark as when they fouled."
   ]
  },
  {
   "cell_type": "code",
   "execution_count": 66,
   "metadata": {},
   "outputs": [
    {
     "data": {
      "text/plain": [
       "25         NaN\n",
       "26    0.111111\n",
       "27         NaN\n",
       "28         NaN\n",
       "29    0.045455\n",
       "30    0.200000\n",
       "31    0.200000\n",
       "32    0.047619\n",
       "33    0.114754\n",
       "34    0.173913\n",
       "Name: SecLeft, dtype: float64"
      ]
     },
     "execution_count": 66,
     "metadata": {},
     "output_type": "execute_result"
    }
   ],
   "source": [
    "win_pct = win_counts / (win_counts + lose_counts)\n",
    "win_pct"
   ]
  },
  {
   "cell_type": "code",
   "execution_count": 67,
   "metadata": {},
   "outputs": [
    {
     "data": {
      "text/plain": [
       "<matplotlib.axes._subplots.AxesSubplot at 0x1c731444040>"
      ]
     },
     "execution_count": 67,
     "metadata": {},
     "output_type": "execute_result"
    },
    {
     "data": {
      "image/png": "[encoded data removed]",
      "text/plain": [
       "<Figure size 432x288 with 1 Axes>"
      ]
     },
     "metadata": {
      "needs_background": "light"
     },
     "output_type": "display_data"
    }
   ],
   "source": [
    "sns.lineplot(x=win_pct.index, y=win_pct.values)"
   ]
  },
  {
   "cell_type": "code",
   "execution_count": 68,
   "metadata": {},
   "outputs": [
    {
     "data": {
      "text/plain": [
       "<seaborn.axisgrid.FacetGrid at 0x1c7314914f0>"
      ]
     },
     "execution_count": 68,
     "metadata": {},
     "output_type": "execute_result"
    },
    {
     "data": {
      "image/png": "[encoded data removed]",
      "text/plain": [
       "<Figure size 360x360 with 1 Axes>"
      ]
     },
     "metadata": {
      "needs_background": "light"
     },
     "output_type": "display_data"
    }
   ],
   "source": [
    "df = pd.DataFrame({'index': win_pct.index, 'values': win_pct.values})\n",
    "sns.lmplot(x='index', y='values', data=df)"
   ]
  },
  {
   "cell_type": "markdown",
   "metadata": {},
   "source": [
    "This look below, again on small sample, shows that teams are more likely to foul when trailing by 3 as opposed to 1. It may be that teams feel they need more time and more luck in order to win. This is because if they are trailing by 1 and they give up a score, they still have a chance. This is not the case if a team is trailing by 2 or 3."
   ]
  },
  {
   "cell_type": "code",
   "execution_count": 34,
   "metadata": {},
   "outputs": [
    {
     "data": {
      "text/plain": [
       "<matplotlib.axes._subplots.AxesSubplot at 0x1c72fc45790>"
      ]
     },
     "execution_count": 34,
     "metadata": {},
     "output_type": "execute_result"
    },
    {
     "data": {
      "image/png": "[encoded data removed]",
      "text/plain": [
       "<Figure size 432x288 with 1 Axes>"
      ]
     },
     "metadata": {
      "needs_background": "light"
     },
     "output_type": "display_data"
    }
   ],
   "source": [
    "sns.countplot(x='SecsLeft', data=new_take_foul_games, hue='score_diff')"
   ]
  },
  {
   "cell_type": "code",
   "execution_count": 33,
   "metadata": {},
   "outputs": [
    {
     "data": {
      "text/plain": [
       "<matplotlib.axes._subplots.AxesSubplot at 0x1c72fd359d0>"
      ]
     },
     "execution_count": 33,
     "metadata": {},
     "output_type": "execute_result"
    },
    {
     "data": {
      "image/png": "[encoded data removed]",
      "text/plain": [
       "<Figure size 432x288 with 1 Axes>"
      ]
     },
     "metadata": {
      "needs_background": "light"
     },
     "output_type": "display_data"
    }
   ],
   "source": [
    "sns.countplot(x='score_diff', data=new_take_foul_games)"
   ]
  },
  {
   "cell_type": "code",
   "execution_count": 37,
   "metadata": {},
   "outputs": [
    {
     "data": {
      "text/plain": [
       "<matplotlib.axes._subplots.AxesSubplot at 0x1c72ff0c8e0>"
      ]
     },
     "execution_count": 37,
     "metadata": {},
     "output_type": "execute_result"
    },
    {
     "data": {
      "image/png": "[encoded data removed]",
      "text/plain": [
       "<Figure size 432x288 with 1 Axes>"
      ]
     },
     "metadata": {
      "needs_background": "light"
     },
     "output_type": "display_data"
    }
   ],
   "source": [
    "sns.countplot(x='score_diff', data=new_take_foul_games, hue='win')"
   ]
  },
  {
   "cell_type": "markdown",
   "metadata": {},
   "source": [
    "As you can see, the pattern is all but gone when looking at situations in which the team did not foul. There are more situations in which a team down 1 will wait. The distribution also goes out the full 34 seconds, which contrasts the take foul data set in which no one is willing to foul with over 31 seconds remaining."
   ]
  },
  {
   "cell_type": "code",
   "execution_count": 35,
   "metadata": {},
   "outputs": [
    {
     "data": {
      "text/plain": [
       "<matplotlib.axes._subplots.AxesSubplot at 0x1c72fe09b20>"
      ]
     },
     "execution_count": 35,
     "metadata": {},
     "output_type": "execute_result"
    },
    {
     "data": {
      "image/png": "[encoded data removed]",
      "text/plain": [
       "<Figure size 432x288 with 1 Axes>"
      ]
     },
     "metadata": {
      "needs_background": "light"
     },
     "output_type": "display_data"
    }
   ],
   "source": [
    "sns.countplot(x='SecLeft', data=new_no_take_foul, hue='score_diff')"
   ]
  },
  {
   "cell_type": "code",
   "execution_count": 36,
   "metadata": {},
   "outputs": [
    {
     "data": {
      "text/plain": [
       "<matplotlib.axes._subplots.AxesSubplot at 0x1c72fc45760>"
      ]
     },
     "execution_count": 36,
     "metadata": {},
     "output_type": "execute_result"
    },
    {
     "data": {
      "image/png": "[encoded data removed]",
      "text/plain": [
       "<Figure size 432x288 with 1 Axes>"
      ]
     },
     "metadata": {
      "needs_background": "light"
     },
     "output_type": "display_data"
    }
   ],
   "source": [
    "sns.countplot(x='score_diff', data=new_no_take_foul)"
   ]
  },
  {
   "cell_type": "markdown",
   "metadata": {},
   "source": [
    "Teams are much more likely to win when trailing by only 1 as opposed to 2 or 3. This is intuitive. But it also suggests the situation is not dire enough down 1 to foul."
   ]
  },
  {
   "cell_type": "code",
   "execution_count": 38,
   "metadata": {},
   "outputs": [
    {
     "data": {
      "text/plain": [
       "<matplotlib.axes._subplots.AxesSubplot at 0x1c72ff61f40>"
      ]
     },
     "execution_count": 38,
     "metadata": {},
     "output_type": "execute_result"
    },
    {
     "data": {
      "image/png": "[encoded data removed]",
      "text/plain": [
       "<Figure size 432x288 with 1 Axes>"
      ]
     },
     "metadata": {
      "needs_background": "light"
     },
     "output_type": "display_data"
    }
   ],
   "source": [
    "sns.countplot(x='score_diff', data=new_no_take_foul, hue='win')"
   ]
  },
  {
   "cell_type": "code",
   "execution_count": 42,
   "metadata": {},
   "outputs": [
    {
     "data": {
      "text/plain": [
       "1    28\n",
       "2     8\n",
       "3     2\n",
       "Name: score_diff, dtype: int64"
      ]
     },
     "execution_count": 42,
     "metadata": {},
     "output_type": "execute_result"
    }
   ],
   "source": [
    "win_counts2 = new_no_take_foul[new_no_take_foul['win'] == 1]['score_diff'].value_counts()\n",
    "win_counts2"
   ]
  },
  {
   "cell_type": "code",
   "execution_count": 43,
   "metadata": {},
   "outputs": [
    {
     "data": {
      "text/plain": [
       "3    96\n",
       "2    95\n",
       "1    91\n",
       "Name: score_diff, dtype: int64"
      ]
     },
     "execution_count": 43,
     "metadata": {},
     "output_type": "execute_result"
    }
   ],
   "source": [
    "lose_counts2 = new_no_take_foul[new_no_take_foul['win'] == 0]['score_diff'].value_counts()\n",
    "lose_counts2"
   ]
  },
  {
   "cell_type": "code",
   "execution_count": 69,
   "metadata": {},
   "outputs": [
    {
     "data": {
      "text/plain": [
       "1    0.235294\n",
       "2    0.077670\n",
       "3    0.020408\n",
       "Name: score_diff, dtype: float64"
      ]
     },
     "execution_count": 69,
     "metadata": {},
     "output_type": "execute_result"
    }
   ],
   "source": [
    "win_pct2 = win_counts2 / (win_counts2 + lose_counts2)\n",
    "win_pct2"
   ]
  },
  {
   "cell_type": "code",
   "execution_count": 70,
   "metadata": {},
   "outputs": [
    {
     "data": {
      "text/plain": [
       "<seaborn.axisgrid.FacetGrid at 0x1c731511670>"
      ]
     },
     "execution_count": 70,
     "metadata": {},
     "output_type": "execute_result"
    },
    {
     "data": {
      "image/png": "[encoded data removed]",
      "text/plain": [
       "<Figure size 360x360 with 1 Axes>"
      ]
     },
     "metadata": {
      "needs_background": "light"
     },
     "output_type": "display_data"
    }
   ],
   "source": [
    "sns.lmplot(x='score_diff', y='SecLeft', data=new_no_take_foul[new_no_take_foul['win'] ==1])"
   ]
  },
  {
   "cell_type": "markdown",
   "metadata": {},
   "source": [
    "## Fouling While Up Late"
   ]
  },
  {
   "cell_type": "markdown",
   "metadata": {},
   "source": [
    "Since extensive cleaning was already done, I also decided to repurpose the data to do a little digging into take fouls when a team is up. The dataset will not be perfect as I did not clean it with the intention of using it for this purpose."
   ]
  },
  {
   "cell_type": "code",
   "execution_count": 59,
   "metadata": {},
   "outputs": [
    {
     "data": {
      "text/plain": [
       "<matplotlib.axes._subplots.AxesSubplot at 0x1c7311ca070>"
      ]
     },
     "execution_count": 59,
     "metadata": {},
     "output_type": "execute_result"
    },
    {
     "data": {
      "image/png": "[encoded data removed]",
      "text/plain": [
       "<Figure size 432x288 with 1 Axes>"
      ]
     },
     "metadata": {
      "needs_background": "light"
     },
     "output_type": "display_data"
    }
   ],
   "source": [
    "new_winning_take_foul['secs_left'].plot(kind='hist')"
   ]
  },
  {
   "cell_type": "markdown",
   "metadata": {},
   "source": [
    "The above and below chart shows that teams are mostly fouling up when there is less than five seconds left and they are up at least 3. Situations in which a team fouls when only up 1 or 2 is when they have a foul to give. Any more than five seconds and the effect is minimized as opposing teams can still run a play. Or in the case of a foul up 3, an opposing team can still foul back with enough time to get the ball and shoot again."
   ]
  },
  {
   "cell_type": "code",
   "execution_count": 60,
   "metadata": {},
   "outputs": [
    {
     "data": {
      "text/plain": [
       "<matplotlib.axes._subplots.AxesSubplot at 0x1c731230dc0>"
      ]
     },
     "execution_count": 60,
     "metadata": {},
     "output_type": "execute_result"
    },
    {
     "data": {
      "image/png": "[encoded data removed]",
      "text/plain": [
       "<Figure size 432x288 with 1 Axes>"
      ]
     },
     "metadata": {
      "needs_background": "light"
     },
     "output_type": "display_data"
    }
   ],
   "source": [
    "sns.countplot(x='score_diff', data= new_winning_take_foul, hue='win')"
   ]
  },
  {
   "cell_type": "markdown",
   "metadata": {},
   "source": [
    "Seeing that this is the inverse of the dataset of fouling when down, it makes sense that a large majority of losses come when the opposing team is only down 1. Of course, the sample size of teams that did foul when up 1 with a foul to give is small, but this relatively large losing percentage would suggest that using the foul to give under 5 seconds is a strong strategy. Additionally, if a team is able to foul with under 5 seconds left while up by 3 that also seems to be a smart strategy. While the majority of teams still win without fouling, it seems like a semi-guaranteed win so long as your players are capable of hitting both free throws, which would put you back in the same situation but with less time."
   ]
  },
  {
   "cell_type": "code",
   "execution_count": 61,
   "metadata": {},
   "outputs": [
    {
     "data": {
      "text/plain": [
       "<matplotlib.axes._subplots.AxesSubplot at 0x1c7313e8910>"
      ]
     },
     "execution_count": 61,
     "metadata": {},
     "output_type": "execute_result"
    },
    {
     "data": {
      "image/png": "[encoded data removed]",
      "text/plain": [
       "<Figure size 432x288 with 1 Axes>"
      ]
     },
     "metadata": {
      "needs_background": "light"
     },
     "output_type": "display_data"
    }
   ],
   "source": [
    "sns.countplot(x='score_diff', data= new_no_win_takefoul, hue='win')"
   ]
  },
  {
   "cell_type": "code",
   "execution_count": 62,
   "metadata": {},
   "outputs": [
    {
     "data": {
      "text/plain": [
       "3    100\n",
       "2     96\n",
       "1     90\n",
       "Name: score_diff, dtype: int64"
      ]
     },
     "execution_count": 62,
     "metadata": {},
     "output_type": "execute_result"
    }
   ],
   "source": [
    "win_counts3 = new_no_win_takefoul[new_no_win_takefoul['win'] == 1]['score_diff'].value_counts()\n",
    "win_counts3"
   ]
  },
  {
   "cell_type": "code",
   "execution_count": 63,
   "metadata": {},
   "outputs": [
    {
     "data": {
      "text/plain": [
       "1    18\n",
       "3     2\n",
       "2     2\n",
       "Name: score_diff, dtype: int64"
      ]
     },
     "execution_count": 63,
     "metadata": {},
     "output_type": "execute_result"
    }
   ],
   "source": [
    "lose_counts3 = new_no_win_takefoul[new_no_win_takefoul['win'] == 0]['score_diff'].value_counts()\n",
    "lose_counts3"
   ]
  },
  {
   "cell_type": "code",
   "execution_count": 71,
   "metadata": {},
   "outputs": [
    {
     "data": {
      "text/plain": [
       "1    0.833333\n",
       "2    0.979592\n",
       "3    0.980392\n",
       "Name: score_diff, dtype: float64"
      ]
     },
     "execution_count": 71,
     "metadata": {},
     "output_type": "execute_result"
    }
   ],
   "source": [
    "win_pct3 = win_counts3 / (win_counts3 + lose_counts3)\n",
    "win_pct3"
   ]
  },
  {
   "cell_type": "markdown",
   "metadata": {},
   "source": [
    "I was just curious of this small sample size of who the teams were that did do the take foul while up. This strategy has been almost accepted as the correct strategy based on analytics, so it was interesting to see that some of the teams here are the ones we know to have strong investment in analytics. Of course Houston is one of the pioneers of the analytics movement in the last decade, and Atlanta and the Clippers are around the top third in terms of analytics department size according to the link at the bottom of the page."
   ]
  },
  {
   "cell_type": "code",
   "execution_count": 73,
   "metadata": {},
   "outputs": [
    {
     "data": {
      "text/plain": [
       "HOU    2\n",
       "ATL    2\n",
       "LAC    2\n",
       "CHO    1\n",
       "BRK    1\n",
       "Name: WinningTeam, dtype: int64"
      ]
     },
     "execution_count": 73,
     "metadata": {},
     "output_type": "execute_result"
    }
   ],
   "source": [
    "new_winning_take_foul['WinningTeam'].value_counts()\n",
    "#Charlotte is actually Toronto since Toronto lost with the strategy"
   ]
  },
  {
   "cell_type": "markdown",
   "metadata": {},
   "source": [
    "https://www.reveliolabs.com/news/business/which-nba-team-is-the-most-data-driven/"
   ]
  }
 ],
 "metadata": {
  "kernelspec": {
   "display_name": "Python 3",
   "language": "python",
   "name": "python3"
  },
  "language_info": {
   "codemirror_mode": {
    "name": "ipython",
    "version": 3
   },
   "file_extension": ".py",
   "mimetype": "text/x-python",
   "name": "python",
   "nbconvert_exporter": "python",
   "pygments_lexer": "ipython3",
   "version": "3.8.3"
  }
 },
 "nbformat": 4,
 "nbformat_minor": 4
}
